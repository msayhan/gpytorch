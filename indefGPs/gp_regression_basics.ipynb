{
 "cells": [
  {
   "cell_type": "markdown",
   "metadata": {},
   "source": [
    "# Playground for exploration and learning GPyTorch essentials"
   ]
  },
  {
   "cell_type": "code",
   "execution_count": 1,
   "metadata": {},
   "outputs": [],
   "source": [
    "import math\n",
    "import torch\n",
    "import gpytorch\n",
    "from matplotlib import pyplot as plt"
   ]
  },
  {
   "cell_type": "markdown",
   "metadata": {},
   "source": [
    "### Set up training and test data"
   ]
  },
  {
   "cell_type": "code",
   "execution_count": 2,
   "metadata": {},
   "outputs": [],
   "source": [
    "train_x = torch.linspace(0, 1, 100)\n",
    "train_y = torch.sin(train_x * (2 * math.pi)) + torch.randn(train_x.size()) * 0.2\n",
    "\n",
    "test_x = torch.linspace(0, 1, 20)\n",
    "# test_y = torch.sin(test_x * (2 * math.pi)) + torch.randn(test_x.size()) * 0.5"
   ]
  },
  {
   "cell_type": "markdown",
   "metadata": {},
   "source": [
    "### Set up the GP model"
   ]
  },
  {
   "cell_type": "code",
   "execution_count": 3,
   "metadata": {},
   "outputs": [],
   "source": [
    "class ExactGPModel(gpytorch.models.ExactGP):\n",
    "    def __init__(self, train_x, train_y, likelihood):\n",
    "        super().__init__(train_x, train_y, likelihood)\n",
    "        self.mean_module = gpytorch.means.ConstantMean()\n",
    "        self.covar_module = gpytorch.kernels.ScaleKernel(gpytorch.kernels.RBFKernel())\n",
    "    \n",
    "    def forward(self, x):\n",
    "        mean_x = self.mean_module(x)\n",
    "        covar_x = self.covar_module(x)\n",
    "\n",
    "        return gpytorch.distributions.MultivariateNormal(mean=mean_x, covariance_matrix=covar_x)\n",
    "\n",
    "# initialize the likelihood and model for simple regression\n",
    "likelihood = gpytorch.likelihoods.GaussianLikelihood()\n",
    "model = ExactGPModel(train_x, train_y, likelihood)"
   ]
  },
  {
   "cell_type": "code",
   "execution_count": 4,
   "metadata": {},
   "outputs": [
    {
     "name": "stdout",
     "output_type": "stream",
     "text": [
      "Parameter name: likelihood.noise_covar.raw_noise           value = 0.0\n",
      "Parameter name: mean_module.raw_constant                   value = 0.0\n",
      "Parameter name: covar_module.raw_outputscale               value = 0.0\n",
      "Parameter name: covar_module.base_kernel.raw_lengthscale   value = 0.0\n",
      "Parameter value = 0.0\n",
      "Parameter value = 0.0\n",
      "Parameter value = 0.0\n",
      "Parameter value = 0.0\n"
     ]
    }
   ],
   "source": [
    "# Check out the model parameters\n",
    "for param_name, param in model.named_parameters():\n",
    "    print(f'Parameter name: {param_name:42} value = {param.item()}')\n",
    "\n",
    "for param in model.parameters():\n",
    "    print(f'Parameter value = {param.item()}')"
   ]
  },
  {
   "cell_type": "markdown",
   "metadata": {},
   "source": [
    "### Train the GP model"
   ]
  },
  {
   "cell_type": "code",
   "execution_count": 5,
   "metadata": {},
   "outputs": [
    {
     "name": "stdout",
     "output_type": "stream",
     "text": [
      "Iter 1/30 - Loss: 0.933   lengthscale: 0.693   noise: 0.693\n",
      "Iter 2/30 - Loss: 0.901   lengthscale: 0.644   noise: 0.644\n",
      "Iter 3/30 - Loss: 0.867   lengthscale: 0.598   noise: 0.598\n",
      "Iter 4/30 - Loss: 0.830   lengthscale: 0.555   noise: 0.554\n",
      "Iter 5/30 - Loss: 0.788   lengthscale: 0.514   noise: 0.513\n",
      "Iter 6/30 - Loss: 0.741   lengthscale: 0.475   noise: 0.474\n",
      "Iter 7/30 - Loss: 0.692   lengthscale: 0.438   noise: 0.437\n",
      "Iter 8/30 - Loss: 0.642   lengthscale: 0.404   noise: 0.402\n",
      "Iter 9/30 - Loss: 0.594   lengthscale: 0.371   noise: 0.370\n",
      "Iter 10/30 - Loss: 0.550   lengthscale: 0.341   noise: 0.339\n",
      "Iter 11/30 - Loss: 0.510   lengthscale: 0.315   noise: 0.311\n",
      "Iter 12/30 - Loss: 0.474   lengthscale: 0.292   noise: 0.284\n",
      "Iter 13/30 - Loss: 0.440   lengthscale: 0.272   noise: 0.260\n",
      "Iter 14/30 - Loss: 0.406   lengthscale: 0.257   noise: 0.237\n",
      "Iter 15/30 - Loss: 0.374   lengthscale: 0.244   noise: 0.216\n",
      "Iter 16/30 - Loss: 0.342   lengthscale: 0.234   noise: 0.197\n",
      "Iter 17/30 - Loss: 0.310   lengthscale: 0.228   noise: 0.179\n",
      "Iter 18/30 - Loss: 0.279   lengthscale: 0.223   noise: 0.163\n",
      "Iter 19/30 - Loss: 0.248   lengthscale: 0.220   noise: 0.148\n",
      "Iter 20/30 - Loss: 0.217   lengthscale: 0.220   noise: 0.135\n",
      "Iter 21/30 - Loss: 0.188   lengthscale: 0.221   noise: 0.123\n",
      "Iter 22/30 - Loss: 0.159   lengthscale: 0.223   noise: 0.112\n",
      "Iter 23/30 - Loss: 0.132   lengthscale: 0.227   noise: 0.102\n",
      "Iter 24/30 - Loss: 0.106   lengthscale: 0.233   noise: 0.093\n",
      "Iter 25/30 - Loss: 0.083   lengthscale: 0.239   noise: 0.084\n",
      "Iter 26/30 - Loss: 0.061   lengthscale: 0.247   noise: 0.077\n",
      "Iter 27/30 - Loss: 0.043   lengthscale: 0.256   noise: 0.071\n",
      "Iter 28/30 - Loss: 0.027   lengthscale: 0.265   noise: 0.065\n",
      "Iter 29/30 - Loss: 0.014   lengthscale: 0.275   noise: 0.060\n",
      "Iter 30/30 - Loss: 0.005   lengthscale: 0.285   noise: 0.055\n"
     ]
    }
   ],
   "source": [
    "n_iter = 30\n",
    "\n",
    "# Find optimal model hyperparameters\n",
    "model.train()\n",
    "likelihood.train()\n",
    "\n",
    "# Use the adam optimizer\n",
    "optimizer = torch.optim.Adam(model.parameters(), lr=0.1)  # Includes GaussianLikelihood parameters\n",
    "\n",
    "# \"Loss\" for GPs - the marginal log likelihood\n",
    "mll = gpytorch.mlls.ExactMarginalLogLikelihood(likelihood, model)\n",
    "\n",
    "for i in range(n_iter):\n",
    "\n",
    "    # Zero gradients from previous iteration\n",
    "    optimizer.zero_grad()\n",
    "\n",
    "    # Output from model\n",
    "    output = model(train_x)\n",
    "\n",
    "    # Calc loss and backprop gradients\n",
    "    loss = -mll(output, train_y)\n",
    "    loss.backward()\n",
    "\n",
    "    print('Iter %d/%d - Loss: %.3f   lengthscale: %.3f   noise: %.3f' % (\n",
    "        i + 1, n_iter, loss.item(),\n",
    "        model.covar_module.base_kernel.lengthscale.item(),\n",
    "        model.likelihood.noise.item()\n",
    "    ))\n",
    "    optimizer.step()"
   ]
  },
  {
   "cell_type": "markdown",
   "metadata": {},
   "source": [
    "### Make predictions on test data"
   ]
  },
  {
   "cell_type": "code",
   "execution_count": 6,
   "metadata": {},
   "outputs": [
    {
     "name": "stdout",
     "output_type": "stream",
     "text": [
      "MultivariateNormal(loc: torch.Size([20]))\n",
      "MultivariateNormal(loc: torch.Size([20]))\n"
     ]
    }
   ],
   "source": [
    "# Get into evaluation (predictive posterior) mode\n",
    "model.eval()\n",
    "likelihood.eval()\n",
    "\n",
    "# Test points are regularly spaced along [0,1]\n",
    "# Make predictions by feeding model through likelihood\n",
    "with torch.no_grad(): #, gpytorch.settings.fast_pred_var():\n",
    "    f_preds = model(test_x)\n",
    "    y_preds = likelihood(f_preds)\n",
    "    \n",
    "print(f_preds)\n",
    "print(y_preds)"
   ]
  },
  {
   "cell_type": "markdown",
   "metadata": {},
   "source": [
    "### Plot the model fit"
   ]
  },
  {
   "cell_type": "code",
   "execution_count": 10,
   "metadata": {},
   "outputs": [
    {
     "data": {
      "image/png": "[encoded data removed]",
      "text/plain": [
       "<Figure size 600x500 with 1 Axes>"
      ]
     },
     "metadata": {},
     "output_type": "display_data"
    }
   ],
   "source": [
    "with torch.no_grad():\n",
    "    # Initialize plot\n",
    "    f, ax = plt.subplots(1, 1, figsize=(6, 5))\n",
    "\n",
    "    # Get upper and lower confidence bounds\n",
    "    lower, upper = y_preds.confidence_region()\n",
    "    # Plot training data as black stars\n",
    "    ax.plot(train_x.numpy(), train_y.numpy(), 'k*')\n",
    "    # Plot predictive means as blue line\n",
    "    ax.plot(test_x.numpy(), y_preds.mean.numpy(), 'b')\n",
    "    # Shade between the lower and upper confidence bounds\n",
    "    ax.fill_between(test_x.numpy(), lower.numpy(), upper.numpy(), alpha=0.5)\n",
    "    ax.set_ylim([-3, 3])\n",
    "    ax.legend(['Observed Data', 'Mean', 'Confidence'])"
   ]
  }
 ],
 "metadata": {
  "kernelspec": {
   "display_name": "mygpytorch",
   "language": "python",
   "name": "python3"
  },
  "language_info": {
   "codemirror_mode": {
    "name": "ipython",
    "version": 3
   },
   "file_extension": ".py",
   "mimetype": "text/x-python",
   "name": "python",
   "nbconvert_exporter": "python",
   "pygments_lexer": "ipython3",
   "version": "3.11.5"
  }
 },
 "nbformat": 4,
 "nbformat_minor": 2
}
